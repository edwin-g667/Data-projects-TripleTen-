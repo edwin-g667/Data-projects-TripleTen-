{
 "cells": [
  {
   "cell_type": "markdown",
   "metadata": {},
   "source": [
    "# Project description\n",
    "\n",
    "Sweet Lift Taxi company has collected historical data on taxi orders at airports. To attract more drivers during peak hours, we need to predict the amount of taxi orders for the next hour. Build a model for such a prediction.\n",
    "\n",
    "The RMSE metric on the test set should not be more than 48.\n",
    "\n",
    "## Project instructions\n",
    "\n",
    "1. Download the data and resample it by one hour.\n",
    "2. Analyze the data.\n",
    "3. Train different models with different hyperparameters. The test sample should be 10% of the initial dataset. \n",
    "4. Test the data using the test sample and provide a conclusion.\n",
    "\n",
    "## Data description\n",
    "\n",
    "The data is stored in file `taxi.csv`. The number of orders is in the '*num_orders*' column."
   ]
  },
  {
   "cell_type": "markdown",
   "metadata": {},
   "source": [
    "## Preparation"
   ]
  },
  {
   "cell_type": "code",
   "execution_count": 1,
   "metadata": {},
   "outputs": [],
   "source": [
    "import pandas as pd\n",
    "from statsmodels.tsa.seasonal import seasonal_decompose\n",
    "import matplotlib.pyplot as plt\n",
    "from sklearn.model_selection import train_test_split\n",
    "from sklearn.ensemble import RandomForestRegressor\n",
    "from sklearn.metrics import mean_squared_error\n",
    "import numpy as np\n",
    "from sklearn.model_selection import GridSearchCV\n",
    "from sklearn.linear_model import LinearRegression\n",
    "from sklearn.model_selection import TimeSeriesSplit\n",
    "import itertools\n",
    "from statsmodels.tsa.arima.model import ARIMA\n",
    "from statsmodels.tsa.statespace.sarimax import SARIMAX"
   ]
  },
  {
   "cell_type": "code",
   "execution_count": 2,
   "metadata": {},
   "outputs": [
    {
     "name": "stdout",
     "output_type": "stream",
     "text": [
      "<class 'pandas.core.frame.DataFrame'>\n",
      "DatetimeIndex: 26496 entries, 2018-03-01 00:00:00 to 2018-08-31 23:50:00\n",
      "Data columns (total 1 columns):\n",
      " #   Column      Non-Null Count  Dtype\n",
      "---  ------      --------------  -----\n",
      " 0   num_orders  26496 non-null  int64\n",
      "dtypes: int64(1)\n",
      "memory usage: 414.0 KB\n"
     ]
    },
    {
     "data": {
      "text/plain": [
       "None"
      ]
     },
     "metadata": {},
     "output_type": "display_data"
    },
    {
     "data": {
      "text/html": [
       "<div>\n",
       "<style scoped>\n",
       "    .dataframe tbody tr th:only-of-type {\n",
       "        vertical-align: middle;\n",
       "    }\n",
       "\n",
       "    .dataframe tbody tr th {\n",
       "        vertical-align: top;\n",
       "    }\n",
       "\n",
       "    .dataframe thead th {\n",
       "        text-align: right;\n",
       "    }\n",
       "</style>\n",
       "<table border=\"1\" class=\"dataframe\">\n",
       "  <thead>\n",
       "    <tr style=\"text-align: right;\">\n",
       "      <th></th>\n",
       "      <th>num_orders</th>\n",
       "    </tr>\n",
       "    <tr>\n",
       "      <th>datetime</th>\n",
       "      <th></th>\n",
       "    </tr>\n",
       "  </thead>\n",
       "  <tbody>\n",
       "    <tr>\n",
       "      <th>2018-03-01 00:00:00</th>\n",
       "      <td>9</td>\n",
       "    </tr>\n",
       "    <tr>\n",
       "      <th>2018-03-01 00:10:00</th>\n",
       "      <td>14</td>\n",
       "    </tr>\n",
       "    <tr>\n",
       "      <th>2018-03-01 00:20:00</th>\n",
       "      <td>28</td>\n",
       "    </tr>\n",
       "    <tr>\n",
       "      <th>2018-03-01 00:30:00</th>\n",
       "      <td>20</td>\n",
       "    </tr>\n",
       "    <tr>\n",
       "      <th>2018-03-01 00:40:00</th>\n",
       "      <td>32</td>\n",
       "    </tr>\n",
       "  </tbody>\n",
       "</table>\n",
       "</div>"
      ],
      "text/plain": [
       "                     num_orders\n",
       "datetime                       \n",
       "2018-03-01 00:00:00           9\n",
       "2018-03-01 00:10:00          14\n",
       "2018-03-01 00:20:00          28\n",
       "2018-03-01 00:30:00          20\n",
       "2018-03-01 00:40:00          32"
      ]
     },
     "execution_count": 2,
     "metadata": {},
     "output_type": "execute_result"
    }
   ],
   "source": [
    "df = pd.read_csv('/datasets/taxi.csv', index_col=[0], parse_dates=[0])\n",
    "display(df.info())\n",
    "df.head()"
   ]
  },
  {
   "cell_type": "code",
   "execution_count": 3,
   "metadata": {},
   "outputs": [
    {
     "data": {
      "text/plain": [
       "True"
      ]
     },
     "execution_count": 3,
     "metadata": {},
     "output_type": "execute_result"
    }
   ],
   "source": [
    "df.index.is_monotonic"
   ]
  },
  {
   "cell_type": "code",
   "execution_count": 4,
   "metadata": {},
   "outputs": [
    {
     "data": {
      "text/html": [
       "<div>\n",
       "<style scoped>\n",
       "    .dataframe tbody tr th:only-of-type {\n",
       "        vertical-align: middle;\n",
       "    }\n",
       "\n",
       "    .dataframe tbody tr th {\n",
       "        vertical-align: top;\n",
       "    }\n",
       "\n",
       "    .dataframe thead th {\n",
       "        text-align: right;\n",
       "    }\n",
       "</style>\n",
       "<table border=\"1\" class=\"dataframe\">\n",
       "  <thead>\n",
       "    <tr style=\"text-align: right;\">\n",
       "      <th></th>\n",
       "      <th>num_orders</th>\n",
       "    </tr>\n",
       "    <tr>\n",
       "      <th>datetime</th>\n",
       "      <th></th>\n",
       "    </tr>\n",
       "  </thead>\n",
       "  <tbody>\n",
       "    <tr>\n",
       "      <th>2018-03-01 00:00:00</th>\n",
       "      <td>124</td>\n",
       "    </tr>\n",
       "    <tr>\n",
       "      <th>2018-03-01 01:00:00</th>\n",
       "      <td>85</td>\n",
       "    </tr>\n",
       "    <tr>\n",
       "      <th>2018-03-01 02:00:00</th>\n",
       "      <td>71</td>\n",
       "    </tr>\n",
       "    <tr>\n",
       "      <th>2018-03-01 03:00:00</th>\n",
       "      <td>66</td>\n",
       "    </tr>\n",
       "    <tr>\n",
       "      <th>2018-03-01 04:00:00</th>\n",
       "      <td>43</td>\n",
       "    </tr>\n",
       "  </tbody>\n",
       "</table>\n",
       "</div>"
      ],
      "text/plain": [
       "                     num_orders\n",
       "datetime                       \n",
       "2018-03-01 00:00:00         124\n",
       "2018-03-01 01:00:00          85\n",
       "2018-03-01 02:00:00          71\n",
       "2018-03-01 03:00:00          66\n",
       "2018-03-01 04:00:00          43"
      ]
     },
     "execution_count": 4,
     "metadata": {},
     "output_type": "execute_result"
    }
   ],
   "source": [
    "df = df.resample('1H').sum()\n",
    "df.head()"
   ]
  },
  {
   "cell_type": "markdown",
   "metadata": {},
   "source": [
    "## Analysis"
   ]
  },
  {
   "cell_type": "code",
   "execution_count": 5,
   "metadata": {},
   "outputs": [
    {
     "name": "stderr",
     "output_type": "stream",
     "text": [
      "/tmp/ipykernel_49/2407059017.py:2: SettingWithCopyWarning: \n",
      "A value is trying to be set on a copy of a slice from a DataFrame.\n",
      "Try using .loc[row_indexer,col_indexer] = value instead\n",
      "\n",
      "See the caveats in the documentation: https://pandas.pydata.org/pandas-docs/stable/user_guide/indexing.html#returning-a-view-versus-a-copy\n",
      "  df_day['rolling_mean'] = df_day.rolling(7).mean()\n"
     ]
    },
    {
     "data": {
      "text/plain": [
       "<AxesSubplot:xlabel='datetime'>"
      ]
     },
     "execution_count": 5,
     "metadata": {},
     "output_type": "execute_result"
    },
    {
     "data": {
      "image/png": "[encoded data removed]",
      "text/plain": [
       "<Figure size 640x480 with 1 Axes>"
      ]
     },
     "metadata": {},
     "output_type": "display_data"
    }
   ],
   "source": [
    "df_day = df['2018-03-02':'2018-03-03']\n",
    "df_day['rolling_mean'] = df_day.rolling(7).mean()\n",
    "df_day.plot()"
   ]
  },
  {
   "cell_type": "code",
   "execution_count": 6,
   "metadata": {},
   "outputs": [
    {
     "name": "stderr",
     "output_type": "stream",
     "text": [
      "/tmp/ipykernel_49/1148387578.py:2: SettingWithCopyWarning: \n",
      "A value is trying to be set on a copy of a slice from a DataFrame.\n",
      "Try using .loc[row_indexer,col_indexer] = value instead\n",
      "\n",
      "See the caveats in the documentation: https://pandas.pydata.org/pandas-docs/stable/user_guide/indexing.html#returning-a-view-versus-a-copy\n",
      "  df_week['rolling_mean'] = df_week.rolling(7).mean()\n"
     ]
    },
    {
     "data": {
      "text/plain": [
       "<AxesSubplot:xlabel='datetime'>"
      ]
     },
     "execution_count": 6,
     "metadata": {},
     "output_type": "execute_result"
    },
    {
     "data": {
      "image/png": "[encoded data removed]",
      "text/plain": [
       "<Figure size 640x480 with 1 Axes>"
      ]
     },
     "metadata": {},
     "output_type": "display_data"
    }
   ],
   "source": [
    "df_week = df['2018-03-01':'2018-03-07']\n",
    "df_week['rolling_mean'] = df_week.rolling(7).mean()\n",
    "df_week.plot()"
   ]
  },
  {
   "cell_type": "markdown",
   "metadata": {},
   "source": [
    "March 1st 2018 was a thursday meaning there are spikes in activity on friday and sunday nights and steep drops after midnight"
   ]
  },
  {
   "cell_type": "code",
   "execution_count": 7,
   "metadata": {},
   "outputs": [
    {
     "data": {
      "image/png": "[encoded data removed]",
      "text/plain": [
       "<Figure size 640x480 with 4 Axes>"
      ]
     },
     "metadata": {},
     "output_type": "display_data"
    }
   ],
   "source": [
    "decomposition = seasonal_decompose(df)\n",
    "decomposition.plot()\n",
    "plt.show()"
   ]
  },
  {
   "cell_type": "markdown",
   "metadata": {},
   "source": [
    "The trend shows an overall increase in demand for taxis overtime. There seems to be repetitive seasonal patterns however the graph is too zoomed out to get exact details. Residuals show a small amount of outliers but not enough to cause concern."
   ]
  },
  {
   "cell_type": "markdown",
   "metadata": {},
   "source": [
    "## Training"
   ]
  },
  {
   "cell_type": "code",
   "execution_count": 8,
   "metadata": {},
   "outputs": [
    {
     "name": "stderr",
     "output_type": "stream",
     "text": [
      "/tmp/ipykernel_49/568636214.py:15: SettingWithCopyWarning: \n",
      "A value is trying to be set on a copy of a slice from a DataFrame.\n",
      "Try using .loc[row_indexer,col_indexer] = value instead\n",
      "\n",
      "See the caveats in the documentation: https://pandas.pydata.org/pandas-docs/stable/user_guide/indexing.html#returning-a-view-versus-a-copy\n",
      "  df['hour'] = df.index.hour\n",
      "/tmp/ipykernel_49/568636214.py:16: SettingWithCopyWarning: \n",
      "A value is trying to be set on a copy of a slice from a DataFrame.\n",
      "Try using .loc[row_indexer,col_indexer] = value instead\n",
      "\n",
      "See the caveats in the documentation: https://pandas.pydata.org/pandas-docs/stable/user_guide/indexing.html#returning-a-view-versus-a-copy\n",
      "  df['dayofweek'] = df.index.dayofweek\n",
      "/tmp/ipykernel_49/568636214.py:17: SettingWithCopyWarning: \n",
      "A value is trying to be set on a copy of a slice from a DataFrame.\n",
      "Try using .loc[row_indexer,col_indexer] = value instead\n",
      "\n",
      "See the caveats in the documentation: https://pandas.pydata.org/pandas-docs/stable/user_guide/indexing.html#returning-a-view-versus-a-copy\n",
      "  df['month'] = df.index.month\n"
     ]
    }
   ],
   "source": [
    "#lag features\n",
    "df['lag_1'] = df['num_orders'].shift(1)\n",
    "df['lag_2'] = df['num_orders'].shift(2)\n",
    "df['lag_3'] = df['num_orders'].shift(3)\n",
    "#moving avg features\n",
    "shifted = df['num_orders'].shift(1)\n",
    "df['ma_3'] = shifted.rolling(window=3).mean()\n",
    "df['ma_5'] = shifted.rolling(window=5).mean()\n",
    "df.dropna(inplace=True)\n",
    "#splitting training and test set\n",
    "train_valid, test = train_test_split(df, test_size=0.1, shuffle=False)\n",
    "train, valid = train_test_split(train_valid, test_size=0.2, shuffle=False)\n",
    "#add time series features\n",
    "for df in [train, valid, test, train_valid]:\n",
    "    df['hour'] = df.index.hour\n",
    "    df['dayofweek'] = df.index.dayofweek\n",
    "    df['month'] = df.index.month"
   ]
  },
  {
   "cell_type": "code",
   "execution_count": 9,
   "metadata": {},
   "outputs": [
    {
     "data": {
      "text/plain": [
       "{'max_depth': 20, 'n_estimators': 200}"
      ]
     },
     "metadata": {},
     "output_type": "display_data"
    },
    {
     "name": "stdout",
     "output_type": "stream",
     "text": [
      "Validation RMSE: 31.993567975491022\n"
     ]
    }
   ],
   "source": [
    "features = ['hour', 'dayofweek', 'month', 'lag_1', 'lag_2', 'lag_3', 'ma_3', 'ma_5']\n",
    "#hypertune RandomForest model\n",
    "tscv = TimeSeriesSplit(n_splits=5)\n",
    "param_grid = {'n_estimators': [50, 100, 200], 'max_depth': [10, 20, 30]}\n",
    "grid_search = GridSearchCV(RandomForestRegressor(), param_grid, cv=tscv, scoring='neg_root_mean_squared_error')\n",
    "grid_search.fit(train[features], train['num_orders'])\n",
    "\n",
    "best_params_rf = grid_search.best_params_\n",
    "display(best_params_rf)\n",
    "\n",
    "#training with best params\n",
    "best_rf_model = grid_search.best_estimator_\n",
    "valid_predictions = best_rf_model.predict(valid[features])\n",
    "valid_rmse = np.sqrt(mean_squared_error(valid['num_orders'], valid_predictions))\n",
    "\n",
    "print(f'Validation RMSE: {valid_rmse}')"
   ]
  },
  {
   "cell_type": "markdown",
   "metadata": {},
   "source": [
    "<div class=\"alert alert-danger\">\n",
    "<b>Reviewer's comment</b>\n",
    "\n",
    "The main metric of this project is RMSE. So, you should use RMSE instead of R2 in GridSearchCV.\n",
    "\n",
    "</div>"
   ]
  },
  {
   "cell_type": "code",
   "execution_count": 10,
   "metadata": {},
   "outputs": [
    {
     "data": {
      "text/plain": [
       "{'copy_X': True, 'fit_intercept': True, 'n_jobs': 1, 'positive': True}"
      ]
     },
     "metadata": {},
     "output_type": "display_data"
    },
    {
     "name": "stdout",
     "output_type": "stream",
     "text": [
      "Validation RMSE: 39.308979974540456\n"
     ]
    }
   ],
   "source": [
    "#linear regression\n",
    "param_grid = {'copy_X': [True,False], 'fit_intercept': [True,False], \n",
    "               'n_jobs': [1,5,10,15,None], 'positive': [True,False]}\n",
    "grid_search = GridSearchCV(LinearRegression(), param_grid, cv=tscv, scoring='neg_root_mean_squared_error')\n",
    "grid_search.fit(train[features], train['num_orders'])\n",
    "best_params_lr = grid_search.best_params_\n",
    "display(best_params_lr)\n",
    "\n",
    "#training with best params\n",
    "best_lr_model = grid_search.best_estimator_\n",
    "valid_predictions = best_lr_model.predict(valid[features])\n",
    "valid_rmse = np.sqrt(mean_squared_error(valid['num_orders'], valid_predictions))\n",
    "print(f'Validation RMSE: {valid_rmse}')"
   ]
  },
  {
   "cell_type": "code",
   "execution_count": 11,
   "metadata": {},
   "outputs": [
    {
     "name": "stdout",
     "output_type": "stream",
     "text": [
      "Best ARIMA RMSE: 42.091436093684074 with params: (1, 2, 1)\n"
     ]
    }
   ],
   "source": [
    "#ARIMA model\n",
    "# Define possible values\n",
    "p = d = q = range(0, 3)\n",
    "\n",
    "# Create combinations\n",
    "combinations = list(itertools.product(p, d, q))\n",
    "\n",
    "best_rmse = float('inf')\n",
    "best_params = None\n",
    "\n",
    "for (p, d, q) in combinations:\n",
    "    try:\n",
    "        model = ARIMA(train['num_orders'], order=(p, d, q))\n",
    "        model_fit = model.fit()\n",
    "        \n",
    "        # Forecast for validation set length\n",
    "        predictions = model_fit.forecast(steps=len(valid))\n",
    "        \n",
    "        rmse = np.sqrt(mean_squared_error(valid['num_orders'], predictions))\n",
    "        \n",
    "        if rmse < best_rmse:\n",
    "            best_rmse = rmse\n",
    "            best_params = (p, d, q)\n",
    "    except Exception as e:\n",
    "        # Print the exception message for better debugging\n",
    "        print(f\"Exception for parameters ({p}, {d}, {q}): {e}\")\n",
    "        continue\n",
    "\n",
    "print(f'Best ARIMA RMSE: {best_rmse} with params: {best_params}')"
   ]
  },
  {
   "cell_type": "code",
   "execution_count": 12,
   "metadata": {},
   "outputs": [
    {
     "name": "stdout",
     "output_type": "stream",
     "text": [
      "Best SARIMA RMSE: 32.79444610332626 with params: (1, 0, 1, 1, 1, 0)\n"
     ]
    }
   ],
   "source": [
    "#tuning sarima model\n",
    "p = d = q = range(0, 2)\n",
    "P = D = Q = range(0, 2)\n",
    "s = 24\n",
    "\n",
    "# Generate parameter combinations\n",
    "combinations = list(itertools.product(p, d, q, P, D, Q))\n",
    "\n",
    "best_rmse = float('inf')\n",
    "best_params = None\n",
    "\n",
    "for (p, d, q, P, D, Q) in combinations:\n",
    "    try:\n",
    "        # Fit SARIMA model\n",
    "        sarima_model = SARIMAX(train['num_orders'], order=(p, d, q), seasonal_order=(P, D, Q, s))\n",
    "        sarima_model_fit = sarima_model.fit(disp=False)\n",
    "        \n",
    "        # Forecast and calculate RMSE\n",
    "        sarima_predictions = sarima_model_fit.forecast(steps=len(valid))\n",
    "        rmse = np.sqrt(mean_squared_error(valid['num_orders'], sarima_predictions))\n",
    "        \n",
    "        # Update best parameters if RMSE is improved\n",
    "        if rmse < best_rmse:\n",
    "            best_rmse = rmse\n",
    "            best_params = (p, d, q, P, D, Q)\n",
    "    except Exception as e:\n",
    "        print(f\"Exception for parameters ({p}, {d}, {q}, {P}, {D}, {Q}): {e}\")\n",
    "        continue\n",
    "\n",
    "print(f'Best SARIMA RMSE: {best_rmse} with params: {best_params}')"
   ]
  },
  {
   "cell_type": "markdown",
   "metadata": {},
   "source": [
    "The best performing model was the RandomForest with 31 RMSE. The SARIMA model showed potential but fell slightly short of the RandomForest in the initial training. "
   ]
  },
  {
   "cell_type": "markdown",
   "metadata": {},
   "source": [
    "## Testing"
   ]
  },
  {
   "cell_type": "code",
   "execution_count": 13,
   "metadata": {},
   "outputs": [
    {
     "name": "stdout",
     "output_type": "stream",
     "text": [
      "Test RF RMSE: 59.99130301563628\n"
     ]
    }
   ],
   "source": [
    "#Testing RF model\n",
    "test_predictions = best_rf_model.predict(test[features])\n",
    "test_rmse = np.sqrt(mean_squared_error(test['num_orders'], test_predictions))\n",
    "   \n",
    "print(f'Test RF RMSE: {test_rmse}')"
   ]
  },
  {
   "cell_type": "code",
   "execution_count": 14,
   "metadata": {},
   "outputs": [
    {
     "data": {
      "text/plain": [
       "47.76389633881529"
      ]
     },
     "execution_count": 14,
     "metadata": {},
     "output_type": "execute_result"
    }
   ],
   "source": [
    "#retraining best model on Train+valid set\n",
    "rf_model = RandomForestRegressor(max_depth=20, n_estimators=200, random_state=12345)\n",
    "rf_model.fit(train_valid[features], train_valid['num_orders'])\n",
    "#testing on test set\n",
    "test_pred = rf_model.predict(test[features])\n",
    "test_rmse = np.sqrt(mean_squared_error(test['num_orders'], test_pred))\n",
    "test_rmse"
   ]
  },
  {
   "cell_type": "markdown",
   "metadata": {},
   "source": [
    "# Review checklist"
   ]
  },
  {
   "cell_type": "markdown",
   "metadata": {},
   "source": [
    "- [x]  Jupyter Notebook is open\n",
    "- [x]  The code is error-free\n",
    "- [x]  The cells with the code have been arranged in order of execution\n",
    "- [x]  The data has been downloaded and prepared\n",
    "- [x]  The data has been analyzed\n",
    "- [x]  The model has been trained and hyperparameters have been selected\n",
    "- [x]  The models have been evaluated. Conclusion has been provided\n",
    "- [ ] *RMSE* for the test set is not more than 48"
   ]
  },
  {
   "cell_type": "code",
   "execution_count": null,
   "metadata": {},
   "outputs": [],
   "source": []
  }
 ],
 "metadata": {
  "ExecuteTimeLog": [
   {
    "duration": 329,
    "start_time": "2024-11-08T19:37:02.188Z"
   },
   {
    "duration": 24,
    "start_time": "2024-11-08T19:37:27.269Z"
   },
   {
    "duration": 29,
    "start_time": "2024-11-08T19:37:33.261Z"
   },
   {
    "duration": 34,
    "start_time": "2024-11-08T19:37:51.097Z"
   },
   {
    "duration": 472,
    "start_time": "2024-11-08T23:32:57.751Z"
   },
   {
    "duration": 27,
    "start_time": "2024-11-08T23:33:19.213Z"
   },
   {
    "duration": 46,
    "start_time": "2024-11-08T23:53:46.075Z"
   },
   {
    "duration": 10,
    "start_time": "2024-11-08T23:53:50.336Z"
   },
   {
    "duration": 13,
    "start_time": "2024-11-08T23:54:26.903Z"
   },
   {
    "duration": 4,
    "start_time": "2024-11-08T23:54:33.291Z"
   },
   {
    "duration": 5,
    "start_time": "2024-11-08T23:55:05.593Z"
   },
   {
    "duration": 8,
    "start_time": "2024-11-08T23:55:13.525Z"
   },
   {
    "duration": 2207,
    "start_time": "2024-11-09T05:18:59.616Z"
   },
   {
    "duration": 490,
    "start_time": "2024-11-09T05:19:15.148Z"
   },
   {
    "duration": 479,
    "start_time": "2024-11-09T05:19:45.315Z"
   },
   {
    "duration": 458,
    "start_time": "2024-11-09T05:19:54.268Z"
   },
   {
    "duration": 5,
    "start_time": "2024-11-09T05:20:01.017Z"
   },
   {
    "duration": 437,
    "start_time": "2024-11-09T05:20:04.953Z"
   },
   {
    "duration": 409,
    "start_time": "2024-11-09T05:20:20.793Z"
   },
   {
    "duration": 467,
    "start_time": "2024-11-09T05:20:24.732Z"
   },
   {
    "duration": 55,
    "start_time": "2024-11-09T05:21:38.439Z"
   },
   {
    "duration": 15,
    "start_time": "2024-11-09T05:21:45.684Z"
   },
   {
    "duration": 16,
    "start_time": "2024-11-09T05:21:49.552Z"
   },
   {
    "duration": 205,
    "start_time": "2024-11-09T05:21:52.761Z"
   },
   {
    "duration": 299,
    "start_time": "2024-11-09T05:22:13.904Z"
   },
   {
    "duration": 189,
    "start_time": "2024-11-09T05:23:30.599Z"
   },
   {
    "duration": 190,
    "start_time": "2024-11-09T05:24:27.981Z"
   },
   {
    "duration": 141,
    "start_time": "2024-11-09T05:25:08.951Z"
   },
   {
    "duration": 145,
    "start_time": "2024-11-09T05:25:40.896Z"
   },
   {
    "duration": 147,
    "start_time": "2024-11-09T05:25:47.901Z"
   },
   {
    "duration": 35,
    "start_time": "2024-11-09T05:26:39.543Z"
   },
   {
    "duration": 755,
    "start_time": "2024-11-09T05:26:51.345Z"
   },
   {
    "duration": 32,
    "start_time": "2024-11-09T05:26:52.103Z"
   },
   {
    "duration": 4,
    "start_time": "2024-11-09T05:26:52.136Z"
   },
   {
    "duration": 10,
    "start_time": "2024-11-09T05:26:52.142Z"
   },
   {
    "duration": 179,
    "start_time": "2024-11-09T05:26:52.171Z"
   },
   {
    "duration": 439,
    "start_time": "2024-11-09T05:26:52.352Z"
   },
   {
    "duration": 144,
    "start_time": "2024-11-09T05:27:25.744Z"
   },
   {
    "duration": 221,
    "start_time": "2024-11-09T05:27:47.071Z"
   },
   {
    "duration": 149,
    "start_time": "2024-11-09T05:28:26.848Z"
   },
   {
    "duration": 156,
    "start_time": "2024-11-09T05:30:21.269Z"
   },
   {
    "duration": 138,
    "start_time": "2024-11-09T05:33:00.932Z"
   },
   {
    "duration": 131,
    "start_time": "2024-11-09T05:33:11.820Z"
   },
   {
    "duration": 131,
    "start_time": "2024-11-09T05:33:35.931Z"
   },
   {
    "duration": 140,
    "start_time": "2024-11-09T05:33:45.540Z"
   },
   {
    "duration": 135,
    "start_time": "2024-11-09T05:33:54.460Z"
   },
   {
    "duration": 142,
    "start_time": "2024-11-09T05:33:59.059Z"
   },
   {
    "duration": 142,
    "start_time": "2024-11-09T05:34:51.212Z"
   },
   {
    "duration": 172,
    "start_time": "2024-11-09T18:23:34.551Z"
   },
   {
    "duration": 2800,
    "start_time": "2024-11-09T18:23:44.064Z"
   },
   {
    "duration": 43,
    "start_time": "2024-11-09T18:23:46.867Z"
   },
   {
    "duration": 3,
    "start_time": "2024-11-09T18:23:46.912Z"
   },
   {
    "duration": 10,
    "start_time": "2024-11-09T18:23:46.917Z"
   },
   {
    "duration": 178,
    "start_time": "2024-11-09T18:23:46.929Z"
   },
   {
    "duration": 185,
    "start_time": "2024-11-09T18:23:47.111Z"
   },
   {
    "duration": 453,
    "start_time": "2024-11-09T18:23:47.298Z"
   },
   {
    "duration": 224,
    "start_time": "2024-11-09T18:23:47.754Z"
   },
   {
    "duration": 6,
    "start_time": "2024-11-09T18:24:12.167Z"
   },
   {
    "duration": 5,
    "start_time": "2024-11-09T18:24:55.983Z"
   },
   {
    "duration": 220,
    "start_time": "2024-11-09T18:45:56.809Z"
   },
   {
    "duration": 6,
    "start_time": "2024-11-09T19:17:37.151Z"
   },
   {
    "duration": 38,
    "start_time": "2024-11-09T19:20:15.628Z"
   },
   {
    "duration": 36,
    "start_time": "2024-11-09T19:20:41.116Z"
   },
   {
    "duration": 30,
    "start_time": "2024-11-09T19:20:45.893Z"
   },
   {
    "duration": 90,
    "start_time": "2024-11-09T19:21:12.982Z"
   },
   {
    "duration": 719,
    "start_time": "2024-11-09T19:21:58.454Z"
   },
   {
    "duration": 91,
    "start_time": "2024-11-09T19:22:07.082Z"
   },
   {
    "duration": 925,
    "start_time": "2024-11-09T19:22:49.369Z"
   },
   {
    "duration": 35,
    "start_time": "2024-11-09T19:22:50.297Z"
   },
   {
    "duration": 4,
    "start_time": "2024-11-09T19:22:50.334Z"
   },
   {
    "duration": 77,
    "start_time": "2024-11-09T19:22:50.341Z"
   },
   {
    "duration": 168,
    "start_time": "2024-11-09T19:22:50.421Z"
   },
   {
    "duration": 169,
    "start_time": "2024-11-09T19:22:50.591Z"
   },
   {
    "duration": 466,
    "start_time": "2024-11-09T19:22:50.762Z"
   },
   {
    "duration": 12,
    "start_time": "2024-11-09T19:22:51.231Z"
   },
   {
    "duration": 1887,
    "start_time": "2024-11-09T19:22:51.245Z"
   },
   {
    "duration": 1831,
    "start_time": "2024-11-09T19:41:50.764Z"
   },
   {
    "duration": 1661,
    "start_time": "2024-11-09T19:44:50.938Z"
   },
   {
    "duration": 1651,
    "start_time": "2024-11-09T19:45:08.309Z"
   },
   {
    "duration": 3,
    "start_time": "2024-11-09T19:53:08.801Z"
   },
   {
    "duration": 942,
    "start_time": "2024-11-09T21:30:07.630Z"
   },
   {
    "duration": 36,
    "start_time": "2024-11-09T21:30:08.576Z"
   },
   {
    "duration": 4,
    "start_time": "2024-11-09T21:30:08.614Z"
   },
   {
    "duration": 63,
    "start_time": "2024-11-09T21:30:08.619Z"
   },
   {
    "duration": 176,
    "start_time": "2024-11-09T21:30:08.685Z"
   },
   {
    "duration": 170,
    "start_time": "2024-11-09T21:30:08.862Z"
   },
   {
    "duration": 410,
    "start_time": "2024-11-09T21:30:09.034Z"
   },
   {
    "duration": 16,
    "start_time": "2024-11-09T21:30:09.446Z"
   },
   {
    "duration": 565,
    "start_time": "2024-11-09T21:30:09.464Z"
   },
   {
    "duration": 11,
    "start_time": "2024-11-09T21:30:53.118Z"
   },
   {
    "duration": 981,
    "start_time": "2024-11-09T21:30:55.254Z"
   },
   {
    "duration": 964,
    "start_time": "2024-11-09T21:31:02.515Z"
   },
   {
    "duration": 34,
    "start_time": "2024-11-09T21:31:03.481Z"
   },
   {
    "duration": 4,
    "start_time": "2024-11-09T21:31:03.516Z"
   },
   {
    "duration": 62,
    "start_time": "2024-11-09T21:31:03.522Z"
   },
   {
    "duration": 180,
    "start_time": "2024-11-09T21:31:03.587Z"
   },
   {
    "duration": 171,
    "start_time": "2024-11-09T21:31:03.769Z"
   },
   {
    "duration": 414,
    "start_time": "2024-11-09T21:31:03.942Z"
   },
   {
    "duration": 15,
    "start_time": "2024-11-09T21:31:04.358Z"
   },
   {
    "duration": 5491,
    "start_time": "2024-11-09T21:31:04.375Z"
   },
   {
    "duration": 3,
    "start_time": "2024-11-09T21:31:39.322Z"
   },
   {
    "duration": 3,
    "start_time": "2024-11-09T21:32:04.561Z"
   },
   {
    "duration": 7204,
    "start_time": "2024-11-09T21:34:39.416Z"
   },
   {
    "duration": 13,
    "start_time": "2024-11-09T21:37:36.295Z"
   },
   {
    "duration": 1214,
    "start_time": "2024-11-09T21:44:55.811Z"
   },
   {
    "duration": 1214,
    "start_time": "2024-11-09T21:45:06.018Z"
   },
   {
    "duration": 242,
    "start_time": "2024-11-09T21:48:15.833Z"
   },
   {
    "duration": 39,
    "start_time": "2024-11-09T21:48:30.937Z"
   },
   {
    "duration": 28532,
    "start_time": "2024-11-09T21:48:35.481Z"
   },
   {
    "duration": 3,
    "start_time": "2024-11-09T21:50:00.192Z"
   },
   {
    "duration": 648684,
    "start_time": "2024-11-09T21:50:28.968Z"
   },
   {
    "duration": 11787,
    "start_time": "2024-11-09T22:17:06.907Z"
   },
   {
    "duration": 129,
    "start_time": "2024-11-09T22:17:39.148Z"
   },
   {
    "duration": 25,
    "start_time": "2024-11-09T22:18:01.222Z"
   },
   {
    "duration": 6,
    "start_time": "2024-11-09T22:20:18.498Z"
   },
   {
    "duration": 11832,
    "start_time": "2024-11-09T22:21:17.147Z"
   },
   {
    "duration": 833,
    "start_time": "2024-11-09T22:22:56.717Z"
   },
   {
    "duration": 828,
    "start_time": "2024-11-09T22:23:11.784Z"
   },
   {
    "duration": 1002,
    "start_time": "2024-11-09T22:43:06.296Z"
   },
   {
    "duration": 43,
    "start_time": "2024-11-09T22:43:07.300Z"
   },
   {
    "duration": 3,
    "start_time": "2024-11-09T22:43:07.345Z"
   },
   {
    "duration": 10,
    "start_time": "2024-11-09T22:43:07.350Z"
   },
   {
    "duration": 179,
    "start_time": "2024-11-09T22:43:07.362Z"
   },
   {
    "duration": 173,
    "start_time": "2024-11-09T22:43:07.543Z"
   },
   {
    "duration": 437,
    "start_time": "2024-11-09T22:43:07.718Z"
   },
   {
    "duration": 15,
    "start_time": "2024-11-09T22:43:08.158Z"
   },
   {
    "duration": 23732,
    "start_time": "2024-11-09T22:43:08.175Z"
   },
   {
    "duration": 1218,
    "start_time": "2024-11-09T22:43:31.912Z"
   },
   {
    "duration": 31096,
    "start_time": "2024-11-09T22:43:33.132Z"
   },
   {
    "duration": 648548,
    "start_time": "2024-11-09T22:44:04.230Z"
   },
   {
    "duration": 13,
    "start_time": "2024-11-09T22:54:52.781Z"
   },
   {
    "duration": 13,
    "start_time": "2024-11-09T22:54:52.798Z"
   },
   {
    "duration": 709,
    "start_time": "2024-11-09T22:54:52.814Z"
   },
   {
    "duration": 11863,
    "start_time": "2024-11-09T22:54:53.524Z"
   },
   {
    "duration": 5,
    "start_time": "2024-11-09T23:25:34.810Z"
   },
   {
    "duration": 3,
    "start_time": "2024-11-09T23:30:39.431Z"
   },
   {
    "duration": 4,
    "start_time": "2024-11-09T23:31:07.420Z"
   },
   {
    "duration": 24561,
    "start_time": "2024-11-10T06:08:35.992Z"
   },
   {
    "duration": 1174,
    "start_time": "2024-11-10T06:09:00.555Z"
   },
   {
    "duration": 537,
    "start_time": "2024-11-10T06:22:59.984Z"
   },
   {
    "duration": 12,
    "start_time": "2024-11-10T06:23:31.817Z"
   },
   {
    "duration": 281,
    "start_time": "2024-11-10T06:23:36.456Z"
   },
   {
    "duration": 19,
    "start_time": "2024-11-10T06:23:50.097Z"
   },
   {
    "duration": 365,
    "start_time": "2024-11-10T06:25:41.280Z"
   },
   {
    "duration": 290,
    "start_time": "2024-11-10T06:25:50.143Z"
   },
   {
    "duration": 287,
    "start_time": "2024-11-10T06:25:56.257Z"
   },
   {
    "duration": 16,
    "start_time": "2024-11-10T06:29:00.141Z"
   },
   {
    "duration": 314,
    "start_time": "2024-11-10T06:29:12.078Z"
   },
   {
    "duration": 288,
    "start_time": "2024-11-10T06:29:19.885Z"
   },
   {
    "duration": 287,
    "start_time": "2024-11-10T06:29:27.374Z"
   },
   {
    "duration": 20,
    "start_time": "2024-11-10T06:29:42.508Z"
   },
   {
    "duration": 9,
    "start_time": "2024-11-10T06:29:50.068Z"
   },
   {
    "duration": 9,
    "start_time": "2024-11-10T06:30:17.924Z"
   },
   {
    "duration": 6,
    "start_time": "2024-11-10T06:30:21.286Z"
   },
   {
    "duration": 5,
    "start_time": "2024-11-10T06:30:28.332Z"
   },
   {
    "duration": 9,
    "start_time": "2024-11-10T06:30:28.860Z"
   },
   {
    "duration": 562,
    "start_time": "2024-11-10T06:30:40.836Z"
   },
   {
    "duration": 2758,
    "start_time": "2024-11-10T19:18:19.949Z"
   },
   {
    "duration": 47,
    "start_time": "2024-11-10T19:18:22.709Z"
   },
   {
    "duration": 4,
    "start_time": "2024-11-10T19:18:22.758Z"
   },
   {
    "duration": 10,
    "start_time": "2024-11-10T19:18:22.765Z"
   },
   {
    "duration": 181,
    "start_time": "2024-11-10T19:18:22.778Z"
   },
   {
    "duration": 178,
    "start_time": "2024-11-10T19:18:22.961Z"
   },
   {
    "duration": 426,
    "start_time": "2024-11-10T19:18:23.141Z"
   },
   {
    "duration": 91,
    "start_time": "2024-11-10T19:18:23.569Z"
   },
   {
    "duration": 24798,
    "start_time": "2024-11-10T19:18:23.662Z"
   },
   {
    "duration": 1369,
    "start_time": "2024-11-10T19:18:48.464Z"
   },
   {
    "duration": 29106,
    "start_time": "2024-11-10T19:18:49.836Z"
   },
   {
    "duration": 649656,
    "start_time": "2024-11-10T19:19:18.944Z"
   },
   {
    "duration": 20,
    "start_time": "2024-11-10T19:30:08.602Z"
   },
   {
    "duration": 2331,
    "start_time": "2024-11-10T19:30:08.631Z"
   },
   {
    "duration": 5,
    "start_time": "2024-11-10T19:30:10.965Z"
   },
   {
    "duration": 9,
    "start_time": "2024-11-10T19:30:10.972Z"
   },
   {
    "duration": 749,
    "start_time": "2024-11-10T19:30:10.983Z"
   },
   {
    "duration": 12097,
    "start_time": "2024-11-10T19:30:11.734Z"
   },
   {
    "duration": 965,
    "start_time": "2024-12-10T23:16:22.782Z"
   },
   {
    "duration": 41,
    "start_time": "2024-12-10T23:16:23.795Z"
   },
   {
    "duration": 7,
    "start_time": "2024-12-10T23:16:30.289Z"
   }
  ],
  "kernelspec": {
   "display_name": "Python 3 (ipykernel)",
   "language": "python",
   "name": "python3"
  },
  "language_info": {
   "codemirror_mode": {
    "name": "ipython",
    "version": 3
   },
   "file_extension": ".py",
   "mimetype": "text/x-python",
   "name": "python",
   "nbconvert_exporter": "python",
   "pygments_lexer": "ipython3",
   "version": "3.9.19"
  },
  "toc": {
   "base_numbering": 1,
   "nav_menu": {},
   "number_sections": true,
   "sideBar": true,
   "skip_h1_title": true,
   "title_cell": "Table of Contents",
   "title_sidebar": "Contents",
   "toc_cell": false,
   "toc_position": {},
   "toc_section_display": true,
   "toc_window_display": false
  }
 },
 "nbformat": 4,
 "nbformat_minor": 2
}
